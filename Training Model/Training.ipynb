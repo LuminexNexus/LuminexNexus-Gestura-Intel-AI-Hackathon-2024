{
 "cells": [
  {
   "cell_type": "code",
   "execution_count": 2,
   "id": "e7746458-d60f-4a90-9fc6-7d7e7081b361",
   "metadata": {},
   "outputs": [
    {
     "name": "stderr",
     "output_type": "stream",
     "text": [
      "2024-03-28 06:48:03.729156: I external/local_tsl/tsl/cuda/cudart_stub.cc:32] Could not find cuda drivers on your machine, GPU will not be used.\n",
      "2024-03-28 06:48:03.732617: I external/local_tsl/tsl/cuda/cudart_stub.cc:32] Could not find cuda drivers on your machine, GPU will not be used.\n",
      "2024-03-28 06:48:03.774373: I tensorflow/core/platform/cpu_feature_guard.cc:210] This TensorFlow binary is optimized to use available CPU instructions in performance-critical operations.\n",
      "To enable the following instructions: AVX2 AVX512F FMA, in other operations, rebuild TensorFlow with the appropriate compiler flags.\n",
      "2024-03-28 06:48:07.885730: W tensorflow/compiler/tf2tensorrt/utils/py_utils.cc:38] TF-TRT Warning: Could not find TensorRT\n"
     ]
    }
   ],
   "source": [
    "import numpy as np\n",
    "import pandas as pd\n",
    "import tensorflow as tf\n",
    "import os\n",
    "import cv2\n",
    "import matplotlib.pyplot as plt\n",
    "from tqdm import tqdm"
   ]
  },
  {
   "cell_type": "code",
   "execution_count": 3,
   "id": "113db2b7-6a0e-4be5-b4cf-702c9deb5dad",
   "metadata": {},
   "outputs": [
    {
     "name": "stdout",
     "output_type": "stream",
     "text": [
      "['A', 'B', 'C', 'D', 'E', 'F', 'G', 'H', 'I', 'J', 'K', 'L', 'M', 'N', 'O', 'P', 'Q', 'R', 'S', 'T', 'U', 'V', 'W', 'X', 'Y']\n"
     ]
    },
    {
     "name": "stderr",
     "output_type": "stream",
     "text": [
      "100%|██████████| 25/25 [00:29<00:00,  1.17s/it]\n"
     ]
    }
   ],
   "source": [
    "path=\"SignLanguage\"\n",
    "files=os.listdir(path)\n",
    "files.sort()\n",
    "print(files)\n",
    "image_array=[]\n",
    "label_array=[]\n",
    "for i in tqdm(range(len(files))):\n",
    "\tsub_file=os.listdir(path+\"/\"+files[i])\n",
    "\tfor j in range(len(sub_file)):\n",
    "\t\tfile_path=path+\"/\"+files[i]+\"/\"+sub_file[j]\n",
    "\t\timage=cv2.imread(file_path)\n",
    "\t\timage=cv2.resize(image,(96,96))\n",
    "\t\timage=cv2.cvtColor(image,cv2.COLOR_BGR2RGB)\n",
    "\t\timage_array.append(image)\n",
    "\t\tlabel_array.append(i)\n",
    "image_array=np.array(image_array)\n",
    "label_array=np.array(label_array,dtype=\"float\")"
   ]
  },
  {
   "cell_type": "code",
   "execution_count": 5,
   "id": "420c5bb5-7ec1-4ff2-90d7-bd79a8ace2f8",
   "metadata": {},
   "outputs": [
    {
     "name": "stderr",
     "output_type": "stream",
     "text": [
      "Intel(R) Extension for Scikit-learn* enabled (https://github.com/intel/scikit-learn-intelex)\n"
     ]
    },
    {
     "data": {
      "text/html": [
       "<pre style=\"white-space:pre;overflow-x:auto;line-height:normal;font-family:Menlo,'DejaVu Sans Mono',consolas,'Courier New',monospace\"><span style=\"font-weight: bold\">Model: \"sequential\"</span>\n",
       "</pre>\n"
      ],
      "text/plain": [
       "\u001b[1mModel: \"sequential\"\u001b[0m\n"
      ]
     },
     "metadata": {},
     "output_type": "display_data"
    },
    {
     "data": {
      "text/html": [
       "<pre style=\"white-space:pre;overflow-x:auto;line-height:normal;font-family:Menlo,'DejaVu Sans Mono',consolas,'Courier New',monospace\">┏━━━━━━━━━━━━━━━━━━━━━━━━━━━━━━━━━┳━━━━━━━━━━━━━━━━━━━━━━━━┳━━━━━━━━━━━━━━━┓\n",
       "┃<span style=\"font-weight: bold\"> Layer (type)                    </span>┃<span style=\"font-weight: bold\"> Output Shape           </span>┃<span style=\"font-weight: bold\">       Param # </span>┃\n",
       "┡━━━━━━━━━━━━━━━━━━━━━━━━━━━━━━━━━╇━━━━━━━━━━━━━━━━━━━━━━━━╇━━━━━━━━━━━━━━━┩\n",
       "│ efficientnetb0 (<span style=\"color: #0087ff; text-decoration-color: #0087ff\">Functional</span>)     │ (<span style=\"color: #00d7ff; text-decoration-color: #00d7ff\">None</span>, <span style=\"color: #00af00; text-decoration-color: #00af00\">3</span>, <span style=\"color: #00af00; text-decoration-color: #00af00\">3</span>, <span style=\"color: #00af00; text-decoration-color: #00af00\">1280</span>)     │     <span style=\"color: #00af00; text-decoration-color: #00af00\">4,049,571</span> │\n",
       "├─────────────────────────────────┼────────────────────────┼───────────────┤\n",
       "│ global_average_pooling2d        │ (<span style=\"color: #00d7ff; text-decoration-color: #00d7ff\">None</span>, <span style=\"color: #00af00; text-decoration-color: #00af00\">1280</span>)           │             <span style=\"color: #00af00; text-decoration-color: #00af00\">0</span> │\n",
       "│ (<span style=\"color: #0087ff; text-decoration-color: #0087ff\">GlobalAveragePooling2D</span>)        │                        │               │\n",
       "├─────────────────────────────────┼────────────────────────┼───────────────┤\n",
       "│ dropout (<span style=\"color: #0087ff; text-decoration-color: #0087ff\">Dropout</span>)               │ (<span style=\"color: #00d7ff; text-decoration-color: #00d7ff\">None</span>, <span style=\"color: #00af00; text-decoration-color: #00af00\">1280</span>)           │             <span style=\"color: #00af00; text-decoration-color: #00af00\">0</span> │\n",
       "├─────────────────────────────────┼────────────────────────┼───────────────┤\n",
       "│ dense (<span style=\"color: #0087ff; text-decoration-color: #0087ff\">Dense</span>)                   │ (<span style=\"color: #00d7ff; text-decoration-color: #00d7ff\">None</span>, <span style=\"color: #00af00; text-decoration-color: #00af00\">1</span>)              │         <span style=\"color: #00af00; text-decoration-color: #00af00\">1,281</span> │\n",
       "└─────────────────────────────────┴────────────────────────┴───────────────┘\n",
       "</pre>\n"
      ],
      "text/plain": [
       "┏━━━━━━━━━━━━━━━━━━━━━━━━━━━━━━━━━┳━━━━━━━━━━━━━━━━━━━━━━━━┳━━━━━━━━━━━━━━━┓\n",
       "┃\u001b[1m \u001b[0m\u001b[1mLayer (type)                   \u001b[0m\u001b[1m \u001b[0m┃\u001b[1m \u001b[0m\u001b[1mOutput Shape          \u001b[0m\u001b[1m \u001b[0m┃\u001b[1m \u001b[0m\u001b[1m      Param #\u001b[0m\u001b[1m \u001b[0m┃\n",
       "┡━━━━━━━━━━━━━━━━━━━━━━━━━━━━━━━━━╇━━━━━━━━━━━━━━━━━━━━━━━━╇━━━━━━━━━━━━━━━┩\n",
       "│ efficientnetb0 (\u001b[38;5;33mFunctional\u001b[0m)     │ (\u001b[38;5;45mNone\u001b[0m, \u001b[38;5;34m3\u001b[0m, \u001b[38;5;34m3\u001b[0m, \u001b[38;5;34m1280\u001b[0m)     │     \u001b[38;5;34m4,049,571\u001b[0m │\n",
       "├─────────────────────────────────┼────────────────────────┼───────────────┤\n",
       "│ global_average_pooling2d        │ (\u001b[38;5;45mNone\u001b[0m, \u001b[38;5;34m1280\u001b[0m)           │             \u001b[38;5;34m0\u001b[0m │\n",
       "│ (\u001b[38;5;33mGlobalAveragePooling2D\u001b[0m)        │                        │               │\n",
       "├─────────────────────────────────┼────────────────────────┼───────────────┤\n",
       "│ dropout (\u001b[38;5;33mDropout\u001b[0m)               │ (\u001b[38;5;45mNone\u001b[0m, \u001b[38;5;34m1280\u001b[0m)           │             \u001b[38;5;34m0\u001b[0m │\n",
       "├─────────────────────────────────┼────────────────────────┼───────────────┤\n",
       "│ dense (\u001b[38;5;33mDense\u001b[0m)                   │ (\u001b[38;5;45mNone\u001b[0m, \u001b[38;5;34m1\u001b[0m)              │         \u001b[38;5;34m1,281\u001b[0m │\n",
       "└─────────────────────────────────┴────────────────────────┴───────────────┘\n"
      ]
     },
     "metadata": {},
     "output_type": "display_data"
    },
    {
     "data": {
      "text/html": [
       "<pre style=\"white-space:pre;overflow-x:auto;line-height:normal;font-family:Menlo,'DejaVu Sans Mono',consolas,'Courier New',monospace\"><span style=\"font-weight: bold\"> Total params: </span><span style=\"color: #00af00; text-decoration-color: #00af00\">4,050,852</span> (15.45 MB)\n",
       "</pre>\n"
      ],
      "text/plain": [
       "\u001b[1m Total params: \u001b[0m\u001b[38;5;34m4,050,852\u001b[0m (15.45 MB)\n"
      ]
     },
     "metadata": {},
     "output_type": "display_data"
    },
    {
     "data": {
      "text/html": [
       "<pre style=\"white-space:pre;overflow-x:auto;line-height:normal;font-family:Menlo,'DejaVu Sans Mono',consolas,'Courier New',monospace\"><span style=\"font-weight: bold\"> Trainable params: </span><span style=\"color: #00af00; text-decoration-color: #00af00\">4,008,829</span> (15.29 MB)\n",
       "</pre>\n"
      ],
      "text/plain": [
       "\u001b[1m Trainable params: \u001b[0m\u001b[38;5;34m4,008,829\u001b[0m (15.29 MB)\n"
      ]
     },
     "metadata": {},
     "output_type": "display_data"
    },
    {
     "data": {
      "text/html": [
       "<pre style=\"white-space:pre;overflow-x:auto;line-height:normal;font-family:Menlo,'DejaVu Sans Mono',consolas,'Courier New',monospace\"><span style=\"font-weight: bold\"> Non-trainable params: </span><span style=\"color: #00af00; text-decoration-color: #00af00\">42,023</span> (164.16 KB)\n",
       "</pre>\n"
      ],
      "text/plain": [
       "\u001b[1m Non-trainable params: \u001b[0m\u001b[38;5;34m42,023\u001b[0m (164.16 KB)\n"
      ]
     },
     "metadata": {},
     "output_type": "display_data"
    }
   ],
   "source": [
    "from sklearn.model_selection import train_test_split\n",
    "X_train,X_test,Y_train,Y_test=train_test_split(image_array,label_array,test_size=0.15)\n",
    "\n",
    "del image_array,label_array\n",
    "\n",
    "import gc\n",
    "gc.collect()\n",
    "\n",
    "from keras import layers,callbacks,utils,applications,optimizers\n",
    "from keras.models import Sequential, Model, load_model\n",
    "\n",
    "model=Sequential()\n",
    "\n",
    "pretrained_model=tf.keras.applications.EfficientNetB0(input_shape=(96,96,3),include_top=False)\n",
    "model.add(pretrained_model)\n",
    "\n",
    "model.add(layers.GlobalAveragePooling2D())\n",
    "\n",
    "model.add(layers.Dropout(0.3))\n",
    "\n",
    "model.add(layers.Dense(1))\n",
    "\n",
    "model.build(input_shape=(None,96,96,3))\n",
    "\n",
    "model.summary()"
   ]
  },
  {
   "cell_type": "code",
   "execution_count": null,
   "id": "e6a3df5d-20ea-49da-af71-52ad488fc627",
   "metadata": {},
   "outputs": [
    {
     "name": "stdout",
     "output_type": "stream",
     "text": [
      "Epoch 1/100\n",
      "\u001b[1m303/303\u001b[0m \u001b[32m━━━━━━━━━━━━━━━━━━━━\u001b[0m\u001b[37m\u001b[0m \u001b[1m106s\u001b[0m 271ms/step - loss: 4.9013 - mae: 4.9013 - val_loss: 2.3818 - val_mae: 2.3782 - learning_rate: 0.0010\n",
      "Epoch 2/100\n",
      "\u001b[1m303/303\u001b[0m \u001b[32m━━━━━━━━━━━━━━━━━━━━\u001b[0m\u001b[37m\u001b[0m \u001b[1m80s\u001b[0m 263ms/step - loss: 1.3267 - mae: 1.3267 - val_loss: 0.8867 - val_mae: 0.8904 - learning_rate: 0.0010\n",
      "Epoch 3/100\n",
      "\u001b[1m303/303\u001b[0m \u001b[32m━━━━━━━━━━━━━━━━━━━━\u001b[0m\u001b[37m\u001b[0m \u001b[1m78s\u001b[0m 259ms/step - loss: 0.8791 - mae: 0.8791 - val_loss: 1.0954 - val_mae: 1.0949 - learning_rate: 0.0010\n",
      "Epoch 4/100\n",
      "\u001b[1m303/303\u001b[0m \u001b[32m━━━━━━━━━━━━━━━━━━━━\u001b[0m\u001b[37m\u001b[0m \u001b[1m79s\u001b[0m 262ms/step - loss: 0.7168 - mae: 0.7168 - val_loss: 0.4752 - val_mae: 0.4774 - learning_rate: 0.0010\n",
      "Epoch 5/100\n",
      "\u001b[1m303/303\u001b[0m \u001b[32m━━━━━━━━━━━━━━━━━━━━\u001b[0m\u001b[37m\u001b[0m \u001b[1m78s\u001b[0m 258ms/step - loss: 0.5807 - mae: 0.5807 - val_loss: 0.6154 - val_mae: 0.6158 - learning_rate: 0.0010\n",
      "Epoch 6/100\n",
      "\u001b[1m303/303\u001b[0m \u001b[32m━━━━━━━━━━━━━━━━━━━━\u001b[0m\u001b[37m\u001b[0m \u001b[1m79s\u001b[0m 260ms/step - loss: 0.6545 - mae: 0.6545 - val_loss: 0.4150 - val_mae: 0.4178 - learning_rate: 0.0010\n",
      "Epoch 7/100\n",
      "\u001b[1m303/303\u001b[0m \u001b[32m━━━━━━━━━━━━━━━━━━━━\u001b[0m\u001b[37m\u001b[0m \u001b[1m78s\u001b[0m 258ms/step - loss: 0.6000 - mae: 0.6000 - val_loss: 0.5159 - val_mae: 0.5169 - learning_rate: 0.0010\n",
      "Epoch 8/100\n",
      "\u001b[1m303/303\u001b[0m \u001b[32m━━━━━━━━━━━━━━━━━━━━\u001b[0m\u001b[37m\u001b[0m \u001b[1m79s\u001b[0m 261ms/step - loss: 0.5168 - mae: 0.5168 - val_loss: 0.3191 - val_mae: 0.3194 - learning_rate: 0.0010\n",
      "Epoch 9/100\n",
      "\u001b[1m303/303\u001b[0m \u001b[32m━━━━━━━━━━━━━━━━━━━━\u001b[0m\u001b[37m\u001b[0m \u001b[1m78s\u001b[0m 258ms/step - loss: 0.5185 - mae: 0.5184 - val_loss: 0.5104 - val_mae: 0.5132 - learning_rate: 0.0010\n",
      "Epoch 10/100\n",
      "\u001b[1m303/303\u001b[0m \u001b[32m━━━━━━━━━━━━━━━━━━━━\u001b[0m\u001b[37m\u001b[0m \u001b[1m79s\u001b[0m 261ms/step - loss: 0.5479 - mae: 0.5479 - val_loss: 0.3146 - val_mae: 0.3146 - learning_rate: 0.0010\n",
      "Epoch 11/100\n",
      "\u001b[1m303/303\u001b[0m \u001b[32m━━━━━━━━━━━━━━━━━━━━\u001b[0m\u001b[37m\u001b[0m \u001b[1m78s\u001b[0m 258ms/step - loss: 0.4494 - mae: 0.4494 - val_loss: 0.6721 - val_mae: 0.6712 - learning_rate: 0.0010\n",
      "Epoch 12/100\n",
      "\u001b[1m303/303\u001b[0m \u001b[32m━━━━━━━━━━━━━━━━━━━━\u001b[0m\u001b[37m\u001b[0m \u001b[1m78s\u001b[0m 258ms/step - loss: 0.4810 - mae: 0.4810 - val_loss: 0.7972 - val_mae: 0.8018 - learning_rate: 0.0010\n",
      "Epoch 13/100\n",
      "\u001b[1m303/303\u001b[0m \u001b[32m━━━━━━━━━━━━━━━━━━━━\u001b[0m\u001b[37m\u001b[0m \u001b[1m78s\u001b[0m 258ms/step - loss: 0.6174 - mae: 0.6174 - val_loss: 0.5311 - val_mae: 0.5305 - learning_rate: 0.0010\n",
      "Epoch 14/100\n",
      "\u001b[1m303/303\u001b[0m \u001b[32m━━━━━━━━━━━━━━━━━━━━\u001b[0m\u001b[37m\u001b[0m \u001b[1m79s\u001b[0m 261ms/step - loss: 0.4380 - mae: 0.4380 - val_loss: 0.3081 - val_mae: 0.3094 - learning_rate: 0.0010\n",
      "Epoch 15/100\n",
      "\u001b[1m303/303\u001b[0m \u001b[32m━━━━━━━━━━━━━━━━━━━━\u001b[0m\u001b[37m\u001b[0m \u001b[1m78s\u001b[0m 258ms/step - loss: 0.4104 - mae: 0.4104 - val_loss: 0.3324 - val_mae: 0.3334 - learning_rate: 0.0010\n",
      "Epoch 16/100\n",
      "\u001b[1m303/303\u001b[0m \u001b[32m━━━━━━━━━━━━━━━━━━━━\u001b[0m\u001b[37m\u001b[0m \u001b[1m78s\u001b[0m 258ms/step - loss: 0.3865 - mae: 0.3865 - val_loss: 0.3611 - val_mae: 0.3625 - learning_rate: 0.0010\n",
      "Epoch 17/100\n",
      "\u001b[1m303/303\u001b[0m \u001b[32m━━━━━━━━━━━━━━━━━━━━\u001b[0m\u001b[37m\u001b[0m \u001b[1m79s\u001b[0m 261ms/step - loss: 0.4514 - mae: 0.4514 - val_loss: 0.2914 - val_mae: 0.2915 - learning_rate: 0.0010\n",
      "Epoch 18/100\n",
      "\u001b[1m303/303\u001b[0m \u001b[32m━━━━━━━━━━━━━━━━━━━━\u001b[0m\u001b[37m\u001b[0m \u001b[1m78s\u001b[0m 258ms/step - loss: 0.3986 - mae: 0.3986 - val_loss: 0.6648 - val_mae: 0.6648 - learning_rate: 0.0010\n",
      "Epoch 19/100\n",
      "\u001b[1m303/303\u001b[0m \u001b[32m━━━━━━━━━━━━━━━━━━━━\u001b[0m\u001b[37m\u001b[0m \u001b[1m78s\u001b[0m 258ms/step - loss: 0.4097 - mae: 0.4097 - val_loss: 0.3682 - val_mae: 0.3694 - learning_rate: 0.0010\n",
      "Epoch 20/100\n",
      "\u001b[1m303/303\u001b[0m \u001b[32m━━━━━━━━━━━━━━━━━━━━\u001b[0m\u001b[37m\u001b[0m \u001b[1m78s\u001b[0m 258ms/step - loss: 0.3654 - mae: 0.3654 - val_loss: 0.4447 - val_mae: 0.4446 - learning_rate: 0.0010\n",
      "Epoch 21/100\n",
      "\u001b[1m303/303\u001b[0m \u001b[32m━━━━━━━━━━━━━━━━━━━━\u001b[0m\u001b[37m\u001b[0m \u001b[1m78s\u001b[0m 258ms/step - loss: 0.3574 - mae: 0.3574 - val_loss: 0.4609 - val_mae: 0.4613 - learning_rate: 0.0010\n",
      "Epoch 22/100\n",
      "\u001b[1m303/303\u001b[0m \u001b[32m━━━━━━━━━━━━━━━━━━━━\u001b[0m\u001b[37m\u001b[0m \u001b[1m0s\u001b[0m 248ms/step - loss: 0.4046 - mae: 0.4046\n",
      "Epoch 22: ReduceLROnPlateau reducing learning rate to 0.0009000000427477062.\n",
      "\u001b[1m303/303\u001b[0m \u001b[32m━━━━━━━━━━━━━━━━━━━━\u001b[0m\u001b[37m\u001b[0m \u001b[1m78s\u001b[0m 258ms/step - loss: 0.4048 - mae: 0.4048 - val_loss: 0.4891 - val_mae: 0.4919 - learning_rate: 0.0010\n",
      "Epoch 23/100\n",
      "\u001b[1m303/303\u001b[0m \u001b[32m━━━━━━━━━━━━━━━━━━━━\u001b[0m\u001b[37m\u001b[0m \u001b[1m78s\u001b[0m 258ms/step - loss: 0.4371 - mae: 0.4371 - val_loss: 0.5492 - val_mae: 0.5504 - learning_rate: 9.0000e-04\n",
      "Epoch 24/100\n",
      "\u001b[1m303/303\u001b[0m \u001b[32m━━━━━━━━━━━━━━━━━━━━\u001b[0m\u001b[37m\u001b[0m \u001b[1m79s\u001b[0m 261ms/step - loss: 0.3773 - mae: 0.3773 - val_loss: 0.2592 - val_mae: 0.2603 - learning_rate: 9.0000e-04\n",
      "Epoch 25/100\n",
      "\u001b[1m303/303\u001b[0m \u001b[32m━━━━━━━━━━━━━━━━━━━━\u001b[0m\u001b[37m\u001b[0m \u001b[1m79s\u001b[0m 261ms/step - loss: 0.3526 - mae: 0.3526 - val_loss: 0.2554 - val_mae: 0.2568 - learning_rate: 9.0000e-04\n",
      "Epoch 26/100\n",
      "\u001b[1m303/303\u001b[0m \u001b[32m━━━━━━━━━━━━━━━━━━━━\u001b[0m\u001b[37m\u001b[0m \u001b[1m78s\u001b[0m 258ms/step - loss: 0.3474 - mae: 0.3474 - val_loss: 0.3428 - val_mae: 0.3435 - learning_rate: 9.0000e-04\n",
      "Epoch 27/100\n",
      "\u001b[1m303/303\u001b[0m \u001b[32m━━━━━━━━━━━━━━━━━━━━\u001b[0m\u001b[37m\u001b[0m \u001b[1m79s\u001b[0m 261ms/step - loss: 0.3329 - mae: 0.3329 - val_loss: 0.2279 - val_mae: 0.2285 - learning_rate: 9.0000e-04\n",
      "Epoch 28/100\n",
      "\u001b[1m303/303\u001b[0m \u001b[32m━━━━━━━━━━━━━━━━━━━━\u001b[0m\u001b[37m\u001b[0m \u001b[1m78s\u001b[0m 258ms/step - loss: 0.3148 - mae: 0.3148 - val_loss: 0.4664 - val_mae: 0.4694 - learning_rate: 9.0000e-04\n",
      "Epoch 29/100\n",
      "\u001b[1m303/303\u001b[0m \u001b[32m━━━━━━━━━━━━━━━━━━━━\u001b[0m\u001b[37m\u001b[0m \u001b[1m78s\u001b[0m 257ms/step - loss: 0.3870 - mae: 0.3870 - val_loss: 0.2397 - val_mae: 0.2406 - learning_rate: 9.0000e-04\n",
      "Epoch 30/100\n",
      "\u001b[1m303/303\u001b[0m \u001b[32m━━━━━━━━━━━━━━━━━━━━\u001b[0m\u001b[37m\u001b[0m \u001b[1m78s\u001b[0m 258ms/step - loss: 0.3293 - mae: 0.3293 - val_loss: 0.3747 - val_mae: 0.3749 - learning_rate: 9.0000e-04\n",
      "Epoch 31/100\n",
      "\u001b[1m303/303\u001b[0m \u001b[32m━━━━━━━━━━━━━━━━━━━━\u001b[0m\u001b[37m\u001b[0m \u001b[1m78s\u001b[0m 258ms/step - loss: 0.3264 - mae: 0.3264 - val_loss: 0.2564 - val_mae: 0.2578 - learning_rate: 9.0000e-04\n",
      "Epoch 32/100\n",
      "\u001b[1m303/303\u001b[0m \u001b[32m━━━━━━━━━━━━━━━━━━━━\u001b[0m\u001b[37m\u001b[0m \u001b[1m0s\u001b[0m 248ms/step - loss: 0.3418 - mae: 0.3418\n",
      "Epoch 32: ReduceLROnPlateau reducing learning rate to 0.0008100000384729356.\n",
      "\u001b[1m303/303\u001b[0m \u001b[32m━━━━━━━━━━━━━━━━━━━━\u001b[0m\u001b[37m\u001b[0m \u001b[1m78s\u001b[0m 258ms/step - loss: 0.3418 - mae: 0.3418 - val_loss: 0.2352 - val_mae: 0.2364 - learning_rate: 9.0000e-04\n",
      "Epoch 33/100\n",
      "\u001b[1m303/303\u001b[0m \u001b[32m━━━━━━━━━━━━━━━━━━━━\u001b[0m\u001b[37m\u001b[0m \u001b[1m79s\u001b[0m 261ms/step - loss: 0.3133 - mae: 0.3133 - val_loss: 0.2254 - val_mae: 0.2262 - learning_rate: 8.1000e-04\n",
      "Epoch 34/100\n",
      "\u001b[1m303/303\u001b[0m \u001b[32m━━━━━━━━━━━━━━━━━━━━\u001b[0m\u001b[37m\u001b[0m \u001b[1m79s\u001b[0m 260ms/step - loss: 0.2997 - mae: 0.2997 - val_loss: 0.1470 - val_mae: 0.1473 - learning_rate: 8.1000e-04\n",
      "Epoch 35/100\n",
      "\u001b[1m303/303\u001b[0m \u001b[32m━━━━━━━━━━━━━━━━━━━━\u001b[0m\u001b[37m\u001b[0m \u001b[1m78s\u001b[0m 257ms/step - loss: 0.2957 - mae: 0.2957 - val_loss: 0.1790 - val_mae: 0.1798 - learning_rate: 8.1000e-04\n",
      "Epoch 36/100\n",
      "\u001b[1m303/303\u001b[0m \u001b[32m━━━━━━━━━━━━━━━━━━━━\u001b[0m\u001b[37m\u001b[0m \u001b[1m78s\u001b[0m 258ms/step - loss: 0.2980 - mae: 0.2980 - val_loss: 0.1669 - val_mae: 0.1673 - learning_rate: 8.1000e-04\n",
      "Epoch 37/100\n",
      "\u001b[1m303/303\u001b[0m \u001b[32m━━━━━━━━━━━━━━━━━━━━\u001b[0m\u001b[37m\u001b[0m \u001b[1m78s\u001b[0m 257ms/step - loss: 0.2953 - mae: 0.2953 - val_loss: 0.6929 - val_mae: 0.6962 - learning_rate: 8.1000e-04\n",
      "Epoch 38/100\n",
      "\u001b[1m303/303\u001b[0m \u001b[32m━━━━━━━━━━━━━━━━━━━━\u001b[0m\u001b[37m\u001b[0m \u001b[1m78s\u001b[0m 258ms/step - loss: 0.3060 - mae: 0.3061 - val_loss: 0.2356 - val_mae: 0.2371 - learning_rate: 8.1000e-04\n",
      "Epoch 39/100\n",
      "\u001b[1m303/303\u001b[0m \u001b[32m━━━━━━━━━━━━━━━━━━━━\u001b[0m\u001b[37m\u001b[0m \u001b[1m0s\u001b[0m 248ms/step - loss: 0.2903 - mae: 0.2903\n",
      "Epoch 39: ReduceLROnPlateau reducing learning rate to 0.0007290000503417104.\n",
      "\u001b[1m303/303\u001b[0m \u001b[32m━━━━━━━━━━━━━━━━━━━━\u001b[0m\u001b[37m\u001b[0m \u001b[1m78s\u001b[0m 258ms/step - loss: 0.2903 - mae: 0.2903 - val_loss: 0.2767 - val_mae: 0.2773 - learning_rate: 8.1000e-04\n",
      "Epoch 40/100\n",
      "\u001b[1m303/303\u001b[0m \u001b[32m━━━━━━━━━━━━━━━━━━━━\u001b[0m\u001b[37m\u001b[0m \u001b[1m79s\u001b[0m 261ms/step - loss: 0.2780 - mae: 0.2780 - val_loss: 0.1354 - val_mae: 0.1361 - learning_rate: 7.2900e-04\n",
      "Epoch 41/100\n",
      "\u001b[1m303/303\u001b[0m \u001b[32m━━━━━━━━━━━━━━━━━━━━\u001b[0m\u001b[37m\u001b[0m \u001b[1m78s\u001b[0m 258ms/step - loss: 0.2685 - mae: 0.2685 - val_loss: 0.1416 - val_mae: 0.1422 - learning_rate: 7.2900e-04\n",
      "Epoch 42/100\n",
      "\u001b[1m303/303\u001b[0m \u001b[32m━━━━━━━━━━━━━━━━━━━━\u001b[0m\u001b[37m\u001b[0m \u001b[1m78s\u001b[0m 258ms/step - loss: 0.2918 - mae: 0.2918 - val_loss: 0.1614 - val_mae: 0.1623 - learning_rate: 7.2900e-04\n",
      "Epoch 43/100\n",
      "\u001b[1m303/303\u001b[0m \u001b[32m━━━━━━━━━━━━━━━━━━━━\u001b[0m\u001b[37m\u001b[0m \u001b[1m78s\u001b[0m 258ms/step - loss: 0.2639 - mae: 0.2639 - val_loss: 0.2719 - val_mae: 0.2721 - learning_rate: 7.2900e-04\n",
      "Epoch 44/100\n",
      "\u001b[1m303/303\u001b[0m \u001b[32m━━━━━━━━━━━━━━━━━━━━\u001b[0m\u001b[37m\u001b[0m \u001b[1m78s\u001b[0m 259ms/step - loss: 0.2636 - mae: 0.2636 - val_loss: 0.2476 - val_mae: 0.2492 - learning_rate: 7.2900e-04\n",
      "Epoch 45/100\n",
      "\u001b[1m303/303\u001b[0m \u001b[32m━━━━━━━━━━━━━━━━━━━━\u001b[0m\u001b[37m\u001b[0m \u001b[1m0s\u001b[0m 248ms/step - loss: 0.2723 - mae: 0.2723\n",
      "Epoch 45: ReduceLROnPlateau reducing learning rate to 0.0006561000715009868.\n",
      "\u001b[1m303/303\u001b[0m \u001b[32m━━━━━━━━━━━━━━━━━━━━\u001b[0m\u001b[37m\u001b[0m \u001b[1m78s\u001b[0m 258ms/step - loss: 0.2723 - mae: 0.2723 - val_loss: 0.2135 - val_mae: 0.2139 - learning_rate: 7.2900e-04\n",
      "Epoch 46/100\n",
      "\u001b[1m303/303\u001b[0m \u001b[32m━━━━━━━━━━━━━━━━━━━━\u001b[0m\u001b[37m\u001b[0m \u001b[1m78s\u001b[0m 258ms/step - loss: 0.2519 - mae: 0.2519 - val_loss: 0.1785 - val_mae: 0.1793 - learning_rate: 6.5610e-04\n",
      "Epoch 47/100\n",
      "\u001b[1m303/303\u001b[0m \u001b[32m━━━━━━━━━━━━━━━━━━━━\u001b[0m\u001b[37m\u001b[0m \u001b[1m78s\u001b[0m 258ms/step - loss: 0.2663 - mae: 0.2663 - val_loss: 0.2030 - val_mae: 0.2041 - learning_rate: 6.5610e-04\n",
      "Epoch 48/100\n",
      "\u001b[1m303/303\u001b[0m \u001b[32m━━━━━━━━━━━━━━━━━━━━\u001b[0m\u001b[37m\u001b[0m \u001b[1m78s\u001b[0m 259ms/step - loss: 0.2634 - mae: 0.2634 - val_loss: 0.1603 - val_mae: 0.1610 - learning_rate: 6.5610e-04\n",
      "Epoch 49/100\n",
      "\u001b[1m303/303\u001b[0m \u001b[32m━━━━━━━━━━━━━━━━━━━━\u001b[0m\u001b[37m\u001b[0m \u001b[1m78s\u001b[0m 258ms/step - loss: 0.2694 - mae: 0.2694 - val_loss: 0.3210 - val_mae: 0.3225 - learning_rate: 6.5610e-04\n",
      "Epoch 50/100\n",
      "\u001b[1m303/303\u001b[0m \u001b[32m━━━━━━━━━━━━━━━━━━━━\u001b[0m\u001b[37m\u001b[0m \u001b[1m0s\u001b[0m 249ms/step - loss: 0.3239 - mae: 0.3239\n",
      "Epoch 50: ReduceLROnPlateau reducing learning rate to 0.0005904900433961303.\n",
      "\u001b[1m303/303\u001b[0m \u001b[32m━━━━━━━━━━━━━━━━━━━━\u001b[0m\u001b[37m\u001b[0m \u001b[1m78s\u001b[0m 258ms/step - loss: 0.3238 - mae: 0.3238 - val_loss: 0.2155 - val_mae: 0.2167 - learning_rate: 6.5610e-04\n",
      "Epoch 51/100\n",
      "\u001b[1m303/303\u001b[0m \u001b[32m━━━━━━━━━━━━━━━━━━━━\u001b[0m\u001b[37m\u001b[0m \u001b[1m79s\u001b[0m 260ms/step - loss: 0.2525 - mae: 0.2525 - val_loss: 0.1478 - val_mae: 0.1484 - learning_rate: 5.9049e-04\n",
      "Epoch 52/100\n",
      "\u001b[1m303/303\u001b[0m \u001b[32m━━━━━━━━━━━━━━━━━━━━\u001b[0m\u001b[37m\u001b[0m \u001b[1m79s\u001b[0m 262ms/step - loss: 0.2455 - mae: 0.2455 - val_loss: 0.1334 - val_mae: 0.1341 - learning_rate: 5.9049e-04\n",
      "Epoch 53/100\n",
      "\u001b[1m303/303\u001b[0m \u001b[32m━━━━━━━━━━━━━━━━━━━━\u001b[0m\u001b[37m\u001b[0m \u001b[1m78s\u001b[0m 258ms/step - loss: 0.2415 - mae: 0.2415 - val_loss: 0.2176 - val_mae: 0.2181 - learning_rate: 5.9049e-04\n",
      "Epoch 54/100\n",
      "\u001b[1m303/303\u001b[0m \u001b[32m━━━━━━━━━━━━━━━━━━━━\u001b[0m\u001b[37m\u001b[0m \u001b[1m78s\u001b[0m 259ms/step - loss: 0.2421 - mae: 0.2421 - val_loss: 0.3682 - val_mae: 0.3684 - learning_rate: 5.9049e-04\n",
      "Epoch 55/100\n",
      "\u001b[1m303/303\u001b[0m \u001b[32m━━━━━━━━━━━━━━━━━━━━\u001b[0m\u001b[37m\u001b[0m \u001b[1m78s\u001b[0m 258ms/step - loss: 0.2419 - mae: 0.2419 - val_loss: 0.2568 - val_mae: 0.2574 - learning_rate: 5.9049e-04\n",
      "Epoch 56/100\n",
      "\u001b[1m303/303\u001b[0m \u001b[32m━━━━━━━━━━━━━━━━━━━━\u001b[0m\u001b[37m\u001b[0m \u001b[1m78s\u001b[0m 258ms/step - loss: 0.2323 - mae: 0.2323 - val_loss: 0.2621 - val_mae: 0.2642 - learning_rate: 5.9049e-04\n",
      "Epoch 57/100\n",
      "\u001b[1m303/303\u001b[0m \u001b[32m━━━━━━━━━━━━━━━━━━━━\u001b[0m\u001b[37m\u001b[0m \u001b[1m0s\u001b[0m 248ms/step - loss: 0.2582 - mae: 0.2582\n",
      "Epoch 57: ReduceLROnPlateau reducing learning rate to 0.0005314410547725857.\n",
      "\u001b[1m303/303\u001b[0m \u001b[32m━━━━━━━━━━━━━━━━━━━━\u001b[0m\u001b[37m\u001b[0m \u001b[1m78s\u001b[0m 258ms/step - loss: 0.2582 - mae: 0.2582 - val_loss: 0.2081 - val_mae: 0.2091 - learning_rate: 5.9049e-04\n",
      "Epoch 58/100\n",
      "\u001b[1m303/303\u001b[0m \u001b[32m━━━━━━━━━━━━━━━━━━━━\u001b[0m\u001b[37m\u001b[0m \u001b[1m78s\u001b[0m 258ms/step - loss: 0.2450 - mae: 0.2450 - val_loss: 0.1945 - val_mae: 0.1959 - learning_rate: 5.3144e-04\n",
      "Epoch 59/100\n",
      "\u001b[1m303/303\u001b[0m \u001b[32m━━━━━━━━━━━━━━━━━━━━\u001b[0m\u001b[37m\u001b[0m \u001b[1m78s\u001b[0m 259ms/step - loss: 0.2316 - mae: 0.2316 - val_loss: 0.1419 - val_mae: 0.1424 - learning_rate: 5.3144e-04\n",
      "Epoch 60/100\n",
      "\u001b[1m303/303\u001b[0m \u001b[32m━━━━━━━━━━━━━━━━━━━━\u001b[0m\u001b[37m\u001b[0m \u001b[1m78s\u001b[0m 258ms/step - loss: 0.2257 - mae: 0.2257 - val_loss: 0.2548 - val_mae: 0.2553 - learning_rate: 5.3144e-04\n",
      "Epoch 61/100\n",
      "\u001b[1m303/303\u001b[0m \u001b[32m━━━━━━━━━━━━━━━━━━━━\u001b[0m\u001b[37m\u001b[0m \u001b[1m78s\u001b[0m 258ms/step - loss: 0.2291 - mae: 0.2291 - val_loss: 0.1747 - val_mae: 0.1754 - learning_rate: 5.3144e-04\n",
      "Epoch 62/100\n",
      "\u001b[1m303/303\u001b[0m \u001b[32m━━━━━━━━━━━━━━━━━━━━\u001b[0m\u001b[37m\u001b[0m \u001b[1m0s\u001b[0m 249ms/step - loss: 0.2331 - mae: 0.2331\n",
      "Epoch 62: ReduceLROnPlateau reducing learning rate to 0.00047829695977270604.\n",
      "\u001b[1m303/303\u001b[0m \u001b[32m━━━━━━━━━━━━━━━━━━━━\u001b[0m\u001b[37m\u001b[0m \u001b[1m78s\u001b[0m 258ms/step - loss: 0.2331 - mae: 0.2331 - val_loss: 0.1408 - val_mae: 0.1416 - learning_rate: 5.3144e-04\n",
      "Epoch 63/100\n",
      "\u001b[1m303/303\u001b[0m \u001b[32m━━━━━━━━━━━━━━━━━━━━\u001b[0m\u001b[37m\u001b[0m \u001b[1m78s\u001b[0m 258ms/step - loss: 0.2282 - mae: 0.2282 - val_loss: 0.1532 - val_mae: 0.1536 - learning_rate: 4.7830e-04\n",
      "Epoch 64/100\n",
      "\u001b[1m303/303\u001b[0m \u001b[32m━━━━━━━━━━━━━━━━━━━━\u001b[0m\u001b[37m\u001b[0m \u001b[1m79s\u001b[0m 261ms/step - loss: 0.2217 - mae: 0.2217 - val_loss: 0.1036 - val_mae: 0.1042 - learning_rate: 4.7830e-04\n",
      "Epoch 65/100\n",
      "\u001b[1m303/303\u001b[0m \u001b[32m━━━━━━━━━━━━━━━━━━━━\u001b[0m\u001b[37m\u001b[0m \u001b[1m0s\u001b[0m 249ms/step - loss: 0.2322 - mae: 0.2322"
     ]
    }
   ],
   "source": [
    "model.compile(optimizer=\"adam\",loss=\"mae\",metrics=[\"mae\"])\n",
    "\n",
    "ckp_path=\"trained_model/model.weights.h5\"\n",
    "model_checkpoint=tf.keras.callbacks.ModelCheckpoint(\n",
    "\t\t\t\t\t\t\t\t\tfilepath=ckp_path,\n",
    "\t\t\t\t\t\t\t\t\tmonitor=\"val_mae\",\n",
    "\t\t\t\t\t\t\t\t\tmode=\"auto\",\n",
    "\t\t\t\t\t\t\t\t\tsave_best_only=True,\n",
    "\t\t\t\t\t\t\t\t\tsave_weights_only=True\n",
    "\t\t\t\t\t\t\t\t\t)\n",
    "\n",
    "reduce_lr=tf.keras.callbacks.ReduceLROnPlateau(\n",
    "\t\t\t\t\t\t\t\t\tfactor=0.9,\n",
    "\t\t\t\t\t\t\t\t\tmonitor=\"val_mae\",\n",
    "\t\t\t\t\t\t\t\t\tmode=\"auto\",\n",
    "\t\t\t\t\t\t\t\t\tcooldown=0,\n",
    "\t\t\t\t\t\t\t\t\tpatience=5,\n",
    "\t\t\t\t\t\t\t\t\tverbose=1,\n",
    "\t\t\t\t\t\t\t\t\tmin_lr=1e-6)\n",
    "\n",
    "\n",
    "Epochs=100\n",
    "Batch_Size=32\n",
    "\n",
    "history=model.fit(\n",
    "\t\t\t\tX_train,\n",
    "\t\t\t\tY_train,\n",
    "\t\t\t\tvalidation_data=(X_test,Y_test),\n",
    "\t\t\t\tbatch_size=Batch_Size,\n",
    "\t\t\t\tepochs=Epochs,\n",
    "\t\t\t\tcallbacks=[model_checkpoint,reduce_lr]\n",
    "\t\t\t\t)\n",
    "\n",
    "model.load_weights(ckp_path)"
   ]
  },
  {
   "cell_type": "code",
   "execution_count": 1,
   "id": "94ee573b-38a8-4d90-bfbc-c81672c7c051",
   "metadata": {},
   "outputs": [
    {
     "ename": "NameError",
     "evalue": "name 'tf' is not defined",
     "output_type": "error",
     "traceback": [
      "\u001b[0;31m---------------------------------------------------------------------------\u001b[0m",
      "\u001b[0;31mNameError\u001b[0m                                 Traceback (most recent call last)",
      "Cell \u001b[0;32mIn[1], line 1\u001b[0m\n\u001b[0;32m----> 1\u001b[0m converter\u001b[38;5;241m=\u001b[39m\u001b[43mtf\u001b[49m\u001b[38;5;241m.\u001b[39mlite\u001b[38;5;241m.\u001b[39mTFLiteConverter\u001b[38;5;241m.\u001b[39mfrom_keras_model(model)\n\u001b[1;32m      2\u001b[0m tflite_model\u001b[38;5;241m=\u001b[39mconverter\u001b[38;5;241m.\u001b[39mconvert()\n\u001b[1;32m      4\u001b[0m \u001b[38;5;28;01mwith\u001b[39;00m \u001b[38;5;28mopen\u001b[39m(\u001b[38;5;124m\"\u001b[39m\u001b[38;5;124mmodel.tflite\u001b[39m\u001b[38;5;124m\"\u001b[39m,\u001b[38;5;124m\"\u001b[39m\u001b[38;5;124mwb\u001b[39m\u001b[38;5;124m\"\u001b[39m) \u001b[38;5;28;01mas\u001b[39;00m f:\n",
      "\u001b[0;31mNameError\u001b[0m: name 'tf' is not defined"
     ]
    }
   ],
   "source": [
    "converter=tf.lite.TFLiteConverter.from_keras_model(model)\n",
    "tflite_model=converter.convert()\n",
    "\n",
    "with open(\"model.tflite\",\"wb\") as f:\n",
    "\tf.write(tflite_model)\n"
   ]
  },
  {
   "cell_type": "code",
   "execution_count": 6,
   "id": "734c297a-de98-4bcb-b3ce-cf1ebd707d38",
   "metadata": {},
   "outputs": [
    {
     "name": "stdout",
     "output_type": "stream",
     "text": [
      "\u001b[1m54/54\u001b[0m \u001b[32m━━━━━━━━━━━━━━━━━━━━\u001b[0m\u001b[37m\u001b[0m \u001b[1m6s\u001b[0m 84ms/step\n",
      "[[-0.37564042]\n",
      " [-0.56333315]\n",
      " [ 0.5117474 ]\n",
      " [ 0.04851242]\n",
      " [ 0.17210543]\n",
      " [ 0.5152126 ]\n",
      " [ 0.22215648]\n",
      " [ 0.01180623]\n",
      " [-0.02255791]\n",
      " [-0.7633695 ]]\n",
      "[16. 23. 24. 17. 15.  7.  7.  9.  7.  2.]\n"
     ]
    }
   ],
   "source": [
    "prediction_val=model.predict(X_test,batch_size=32)\n",
    "\n",
    "print(prediction_val[:10])\n",
    "\n",
    "print(Y_test[:10])"
   ]
  },
  {
   "cell_type": "code",
   "execution_count": null,
   "id": "4c129fce-3567-4d5b-b5ba-c4f1fc83b5a1",
   "metadata": {},
   "outputs": [],
   "source": []
  }
 ],
 "metadata": {
  "kernelspec": {
   "display_name": "Python 3 (Intel® oneAPI 2023.2)",
   "language": "python",
   "name": "c009-intel_distribution_of_python_3_oneapi-beta05-python"
  },
  "language_info": {
   "codemirror_mode": {
    "name": "ipython",
    "version": 3
   },
   "file_extension": ".py",
   "mimetype": "text/x-python",
   "name": "python",
   "nbconvert_exporter": "python",
   "pygments_lexer": "ipython3",
   "version": "3.9.16"
  }
 },
 "nbformat": 4,
 "nbformat_minor": 5
}
